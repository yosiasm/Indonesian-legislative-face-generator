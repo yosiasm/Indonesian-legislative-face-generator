{
 "cells": [
  {
   "cell_type": "code",
   "execution_count": 2,
   "metadata": {},
   "outputs": [
    {
     "ename": "ModuleNotFoundError",
     "evalue": "No module named 'face_recognition'",
     "output_type": "error",
     "traceback": [
      "\u001b[1;31m---------------------------------------------------------------------------\u001b[0m",
      "\u001b[1;31mModuleNotFoundError\u001b[0m                       Traceback (most recent call last)",
      "\u001b[1;32m<ipython-input-2-b0bccf4183f4>\u001b[0m in \u001b[0;36m<module>\u001b[1;34m\u001b[0m\n\u001b[0;32m      1\u001b[0m \u001b[1;32mfrom\u001b[0m \u001b[0mPIL\u001b[0m \u001b[1;32mimport\u001b[0m \u001b[0mImage\u001b[0m\u001b[1;33m\u001b[0m\u001b[1;33m\u001b[0m\u001b[0m\n\u001b[0;32m      2\u001b[0m \u001b[1;32mimport\u001b[0m \u001b[0mglob\u001b[0m\u001b[1;33m\u001b[0m\u001b[1;33m\u001b[0m\u001b[0m\n\u001b[1;32m----> 3\u001b[1;33m \u001b[1;32mimport\u001b[0m \u001b[0mface_recognition\u001b[0m\u001b[1;33m\u001b[0m\u001b[1;33m\u001b[0m\u001b[0m\n\u001b[0m\u001b[0;32m      4\u001b[0m \u001b[1;32mfrom\u001b[0m \u001b[0mscipy\u001b[0m \u001b[1;32mimport\u001b[0m \u001b[0mmisc\u001b[0m\u001b[1;33m\u001b[0m\u001b[1;33m\u001b[0m\u001b[0m\n\u001b[0;32m      5\u001b[0m \u001b[1;32mimport\u001b[0m \u001b[0mnumpy\u001b[0m \u001b[1;32mas\u001b[0m \u001b[0mnp\u001b[0m\u001b[1;33m\u001b[0m\u001b[1;33m\u001b[0m\u001b[0m\n",
      "\u001b[1;31mModuleNotFoundError\u001b[0m: No module named 'face_recognition'"
     ]
    }
   ],
   "source": [
    "from PIL import Image\n",
    "import glob\n",
    "import face_recognition\n",
    "from scipy import misc\n",
    "import numpy as np\n",
    "from skimage import transform\n",
    "import os.path\n",
    "import urllib.request\n",
    "import time\n",
    "import requests\n",
    "\n",
    "for filename in glob.glob(\"fotoDPR/*.jpg\"):\n",
    "    img_data=Image.open(filename)\n",
    "    with open(\"temp.png\", 'wb') as handler:\n",
    "        handler.write(img_data)\n",
    "                \n",
    "    image_face_info = face_recognition.load_image_file(TEMP_FILENAME)\n",
    "    face_landmarks = face_recognition.face_landmarks(image_face_info)\n",
    "\n",
    "    image_numpy = misc.imread(TEMP_FILENAME)\n",
    "    colorAmount = 0\n",
    "    if len(image_numpy.shape) == 3:\n",
    "        nR = getNorm(image_numpy[:,:,0])\n",
    "        nG = getNorm(image_numpy[:,:,1])\n",
    "        nB = getNorm(image_numpy[:,:,2])\n",
    "        colorAmount = np.mean(np.square(nR-nG))+np.mean(np.square(nR-nB))+np.mean(np.square(nG-nB))\n",
    "    if len(face_landmarks) == 1 and colorAmount >= 0.04: # We need there to only be one face in the image, AND we need it to be a colored image.\n",
    "        leftEyePosition = getAvg(face_landmarks[0],'left_eye')\n",
    "        rightEyePosition = getAvg(face_landmarks[0],'right_eye')\n",
    "        nosePosition = getAvg(face_landmarks[0],'nose_tip')\n",
    "        mouthPosition = getAvg(face_landmarks[0],'bottom_lip')\n",
    "            \n",
    "        centralPosition = (leftEyePosition+rightEyePosition)/2\n",
    "            \n",
    "        faceWidth = np.linalg.norm(leftEyePosition-rightEyePosition)\n",
    "        faceHeight = np.linalg.norm(centralPosition-mouthPosition)\n",
    "        if faceWidth >= faceHeight*0.7 and faceWidth <= faceHeight*1.5:\n",
    "\n",
    "            faceSize = (faceWidth+faceHeight)/2\n",
    "            \n",
    "            toScaleFactor = faceSize/DESIRED_SIZE\n",
    "            toXShift = (centralPosition[0])\n",
    "            toYShift = (centralPosition[1])\n",
    "            toRotateFactor = np.arctan2(rightEyePosition[1]-leftEyePosition[1],rightEyePosition[0]-leftEyePosition[0])\n",
    "            \n",
    "            rotateT = transform.SimilarityTransform(scale=toScaleFactor,rotation=toRotateFactor,translation=(toXShift,toYShift))\n",
    "            moveT = transform.SimilarityTransform(scale=1,rotation=0,translation=(-DESIRED_X,-DESIRED_Y))\n",
    "\n",
    "            outputArr = transform.warp(image=image_numpy,inverse_map=(moveT+rotateT))[0:FINAL_IMAGE_HEIGHT,0:FINAL_IMAGE_WIDTH]\n",
    "\n",
    "            misc.imsave(\"fotoDPRaligned/\"+str(imageCounter)+\".png\",outputArr)\n",
    "            \n",
    "            print(\"fotoDPRaligned/\"+str(imageCounter)+\".png\")\n",
    "            imageCounter += 1\n",
    "        #time.sleep(0.5)"
   ]
  },
  {
   "cell_type": "code",
   "execution_count": null,
   "metadata": {},
   "outputs": [],
   "source": []
  }
 ],
 "metadata": {
  "kernelspec": {
   "display_name": "Python 3",
   "language": "python",
   "name": "python3"
  },
  "language_info": {
   "codemirror_mode": {
    "name": "ipython",
    "version": 3
   },
   "file_extension": ".py",
   "mimetype": "text/x-python",
   "name": "python",
   "nbconvert_exporter": "python",
   "pygments_lexer": "ipython3",
   "version": "3.7.3"
  }
 },
 "nbformat": 4,
 "nbformat_minor": 2
}
