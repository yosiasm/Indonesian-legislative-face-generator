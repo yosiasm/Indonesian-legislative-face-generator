{
 "cells": [
  {
   "cell_type": "code",
   "execution_count": 27,
   "metadata": {},
   "outputs": [
    {
     "name": "stdout",
     "output_type": "stream",
     "text": [
      "Saved fotoDPR/1737.jpg\n",
      "Saved fotoDPR/1738.jpg\n",
      "Saved fotoDPR/1739.jpg\n",
      "Saved fotoDPR/1740.jpg\n",
      "Saved fotoDPR/1741.jpg\n",
      "Saved fotoDPR/1743.jpg\n",
      "Saved fotoDPR/1744.jpg\n",
      "Error Occured for DPR 2052\n",
      "Done\n",
      "Time Taken =  376.4525318145752 sec\n"
     ]
    }
   ],
   "source": [
    "import cv2\n",
    "import numpy as np\n",
    "import urllib.request\n",
    "import time\n",
    "start = 1737\n",
    "start_time = time.time()\n",
    "for i in range(500):\n",
    "    try:\n",
    "        req = urllib.request.Request(\n",
    "            'http://www.dpr.go.id/doksigota/photo/'+str(start+i)+'.jpg')\n",
    "        response = urllib.request.urlopen(req)\n",
    "        rr = response.read()\n",
    "        ba = bytearray(rr)\n",
    "        image = np.asarray(ba, dtype=\"uint8\")\n",
    "        image = cv2.imdecode(image, cv2.IMREAD_UNCHANGED)\n",
    "        if image is None:\n",
    "            2\n",
    "        else:\n",
    "            cv2.imwrite(\"fotoDPR/\"+str(start+i)+\".jpg\", image)\n",
    "            print(\"Saved fotoDPR/\"+str(start+i)+\".jpg\")\n",
    "    except Exception as e:\n",
    "        print(\"Error Occured for DPR \"+str(start+i))\n",
    "        #print(str(e))\n",
    "        \n",
    "end_time = time.time()\n",
    "print(\"Done\")\n",
    "print(\"Time Taken = \", end_time - start_time, \"sec\")"
   ]
  },
  {
   "cell_type": "code",
   "execution_count": null,
   "metadata": {},
   "outputs": [],
   "source": []
  }
 ],
 "metadata": {
  "kernelspec": {
   "display_name": "Python 3",
   "language": "python",
   "name": "python3"
  },
  "language_info": {
   "codemirror_mode": {
    "name": "ipython",
    "version": 3
   },
   "file_extension": ".py",
   "mimetype": "text/x-python",
   "name": "python",
   "nbconvert_exporter": "python",
   "pygments_lexer": "ipython3",
   "version": "3.7.3"
  }
 },
 "nbformat": 4,
 "nbformat_minor": 2
}
